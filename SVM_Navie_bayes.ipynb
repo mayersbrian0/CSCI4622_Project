{
 "cells": [
  {
   "cell_type": "code",
   "execution_count": null,
   "metadata": {},
   "outputs": [],
   "source": []
  },
  {
   "cell_type": "code",
   "execution_count": null,
   "metadata": {},
   "outputs": [],
   "source": []
  },
  {
   "cell_type": "code",
   "execution_count": 1,
   "metadata": {},
   "outputs": [
    {
     "name": "stdout",
     "output_type": "stream",
     "text": [
      "Accuracy: 0.6009615384615384\n"
     ]
    }
   ],
   "source": [
    "#BEGIN random forest\n",
    "import numpy as np\n",
    "from sklearn.model_selection import train_test_split\n",
    "from sklearn.ensemble import RandomForestClassifier\n",
    "\n",
    "X = np.loadtxt('feature_data.csv', delimiter=',')\n",
    "y = np.loadtxt('class_data.csv', delimiter=',')\n",
    "\n",
    "X_train, X_test, y_train, y_test = train_test_split(X, y, test_size=0.3, random_state=42)\n",
    "\n",
    "rf = RandomForestClassifier()\n",
    "rf.fit(X_train, y_train)\n",
    "y_pred = rf.predict(X_test)\n",
    "total = 0\n",
    "for i in range(len(y_pred)):\n",
    "    if y_pred[i] == y_test[i]: total +=1 \n",
    "        \n",
    "print(\"Accuracy: {}\".format(total / len(y_pred)))\n",
    "\n"
   ]
  },
  {
   "cell_type": "code",
   "execution_count": 18,
   "metadata": {},
   "outputs": [],
   "source": [
    "#Naive Bayes\n",
    "from sklearn.naive_bayes import GaussianNB\n",
    "def show_decision_surface(model, X, y, ax=None):\n",
    "    \"\"\"\n",
    "    Helper function to visualize the decision surface of the trained model\n",
    "    :param model with predict method\n",
    "    :return: None\n",
    "    \"\"\"\n",
    "    x_min, x_max = X[:, 0].min() - 1, X[:, 0].max() + 1\n",
    "    y_min, y_max = X[:, 1].min() - 1, X[:, 1].max() + 1\n",
    "    x_grid, y_grid = np.arange(x_min, x_max, 0.1), np.arange(y_min, y_max, 0.1)\n",
    "    xx, yy = np.meshgrid(x_grid, y_grid)\n",
    "    r1, r2 = xx.reshape(-1, 1), yy.reshape(-1, 1)\n",
    "    grid = np.hstack((r1, r2))\n",
    "    y_hat = model.predict(grid).reshape(-1, )\n",
    "    zz = y_hat.reshape(xx.shape)\n",
    "\n",
    "    if ax is None:\n",
    "        plt.contourf(xx, yy, zz, cmap='PiYG')\n",
    "        plt.scatter(X[:, 0], X[:, 1], c=y)\n",
    "        plt.show()\n",
    "    else:\n",
    "        ax.contourf(xx, yy, zz, cmap='PiYG')\n",
    "        ax.scatter(X[:, 0], X[:, 1], c=y)\n"
   ]
  },
  {
   "cell_type": "code",
   "execution_count": 3,
   "metadata": {},
   "outputs": [
    {
     "name": "stdout",
     "output_type": "stream",
     "text": [
      "Number of mislabeled points out of a total 208 points : 94\n",
      "Accuracy: 0.4519230769230769\n"
     ]
    }
   ],
   "source": [
    "gnb = GaussianNB()\n",
    "y_pred = gnb.fit(X_train, y_train).predict(X_test)\n",
    "print(\"Number of mislabeled points out of a total %d points : %d\" % (X_test.shape[0], (y_test != y_pred).sum()))\n",
    "print(\"Accuracy: \"+str((y_test != y_pred).sum()/X_test.shape[0]))"
   ]
  },
  {
   "cell_type": "code",
   "execution_count": 4,
   "metadata": {},
   "outputs": [],
   "source": [
    "import time\n",
    "\n",
    "import pandas as pd\n",
    "import matplotlib.pyplot as plt\n",
    "import numpy as np\n",
    "\n",
    "import tensorflow as tf\n",
    "from tensorflow import keras\n",
    "\n",
    "from qiskit import BasicAer\n",
    "from qiskit.circuit.library import ZZFeatureMap\n",
    "from qiskit.utils import QuantumInstance, algorithm_globals\n",
    "\"\"\"\n",
    "from qiskit.aqua.algorithms import QSVM\n",
    "from qiskit.aqua import QuantumInstance\n",
    "\"\"\"\n",
    "from qiskit_machine_learning.kernels import QuantumKernel\n",
    "from qiskit_machine_learning.datasets import ad_hoc_data\n",
    "from qiskit_machine_learning.algorithms import QSVC\n",
    "\n",
    "from sklearn.preprocessing import StandardScaler, MinMaxScaler\n",
    "from sklearn.decomposition import PCA\n",
    "from sklearn import svm\n",
    "\n",
    "from sklearn.metrics import roc_curve, auc\n",
    "import matplotlib.pyplot as plt"
   ]
  },
  {
   "cell_type": "code",
   "execution_count": 5,
   "metadata": {},
   "outputs": [],
   "source": [
    "def confusion_matrix(y_pred, y_true, percent = True, display = False, labels = None):\n",
    "    y_pred = np.array(y_pred)\n",
    "    y_true = np.array(y_true)\n",
    "    \n",
    "    vals = np.unique(y_true)\n",
    "    vals[::-1].sort() # largest values show up first in confusion matrix\n",
    "    n = len(vals)\n",
    "    mat = np.zeros((n, n))\n",
    "    \n",
    "    for i in range(n):\n",
    "        for j in range(n):\n",
    "            mat[i, j] = sum((y_true == vals[i]) & (y_pred == vals[j]))\n",
    "    if percent:\n",
    "        mat = mat/np.sum(mat, axis = 1, keepdims = True)\n",
    "    \n",
    "    if display:\n",
    "        if labels is None:\n",
    "            labels = vals\n",
    "        _, ax = plt.subplots()\n",
    "        plt.ylabel(\"actual\")\n",
    "        plt.xlabel(\"predicted\")\n",
    "        ax.matshow(mat, cmap=plt.cm.Blues)\n",
    "        ax.set_xlabel(\"Predicted Labels\")\n",
    "        ax.set_ylabel(\"True Labels\")\n",
    "        ax.xaxis.set_ticks(range(n))\n",
    "        ax.yaxis.set_ticks(range(n))\n",
    "        ax.set_xticklabels(labels)\n",
    "        ax.set_yticklabels(labels)\n",
    "        for i in range(mat.shape[0]):\n",
    "            for j in range(mat.shape[0]):\n",
    "                ax.text(i, j, str(mat[j,i]), va='center', ha='center')\n",
    "        plt.show()\n",
    "    return mat"
   ]
  },
  {
   "cell_type": "code",
   "execution_count": 6,
   "metadata": {},
   "outputs": [],
   "source": [
    "def ROC(y_train_score1, y_test_score1, y_train, y_test):\n",
    "    falsePos1, truePos1, _ = roc_curve(y_train, y_train_score1)\n",
    "    roc_auc1 = auc(falsePos1, truePos1)\n",
    "\n",
    "    fig, (ax1,ax2) = plt.subplots(1, 2, figsize=(14,6))\n",
    "    ax1.plot(falsePos1, truePos1, label='SVM $\\gamma = 5$', color='b')\n",
    "    ax1.set_title('Training Data')\n",
    "\n",
    "    falsePos2, truePos2, _ = roc_curve(y_test, y_test_score1)\n",
    "    roc_auc1 = auc(falsePos2, truePos2)\n",
    "    ax2.plot(falsePos2, truePos2, label='SVM $\\gamma = 5$', color='b')\n",
    "\n",
    "    ax2.set_title('Test Data')\n",
    "\n",
    "    for ax in fig.axes:\n",
    "        ax.plot([0, 1], [0, 1], 'k--')\n",
    "        ax.set_xlim([-0.05, 1.0])\n",
    "        ax.set_ylim([0.0, 1.05])\n",
    "        ax.set_xlabel('False Positive Rate')\n",
    "        ax.set_ylabel('True Positive Rate')\n",
    "        ax.legend(loc=\"lower right\")"
   ]
  },
  {
   "cell_type": "code",
   "execution_count": 16,
   "metadata": {},
   "outputs": [
    {
     "name": "stdout",
     "output_type": "stream",
     "text": [
      "Direct kernel set classical SVM\n",
      "Training time:0.007067441940307617[sec]\n",
      "Test time:0.0020029544830322266[sec]\n",
      "Svm accuracy: 0.6009615384615384\n"
     ]
    }
   ],
   "source": [
    "svm1 = svm.SVC(C = 8, kernel = \"rbf\", gamma = .08)\n",
    "start_time = time.time()\n",
    "svm1.fit(X_train, y_train) # train\n",
    "train_time = time.time() - start_time\n",
    "y1_pred = svm1.predict(X_test) #predict\n",
    "test_time = time.time() - start_time - train_time\n",
    "print (\"Direct kernel set classical SVM\")\n",
    "print (\"Training time:{0}\".format(train_time) + \"[sec]\")\n",
    "print (\"Test time:{0}\".format(test_time) + \"[sec]\")\n",
    "print(\"Svm accuracy: \"+str(svm1.score(X_test,y_test)))"
   ]
  },
  {
   "cell_type": "code",
   "execution_count": 19,
   "metadata": {},
   "outputs": [
    {
     "name": "stdout",
     "output_type": "stream",
     "text": [
      "Direct kernel set classical SVM\n",
      "Training time:0.006704568862915039[sec]\n",
      "Test time:0.0[sec]\n",
      "Svm accuracy: 0.5961538461538461\n"
     ]
    }
   ],
   "source": [
    "svm1 = svm.SVC(kernel = \"linear\")\n",
    "start_time = time.time()\n",
    "svm1.fit(X_train, y_train) # train\n",
    "train_time = time.time() - start_time\n",
    "y1_pred = svm1.predict(X_test) #predict\n",
    "test_time = time.time() - start_time - train_time\n",
    "print (\"Direct kernel set classical SVM\")\n",
    "print (\"Training time:{0}\".format(train_time) + \"[sec]\")\n",
    "print (\"Test time:{0}\".format(test_time) + \"[sec]\")\n",
    "print(\"Svm accuracy: \"+str(svm1.score(X_test,y_test)))"
   ]
  },
  {
   "cell_type": "code",
   "execution_count": 9,
   "metadata": {},
   "outputs": [
    {
     "name": "stdout",
     "output_type": "stream",
     "text": [
      "Direct kernel set classical SVM\n",
      "Training time:0.528923749923706[sec]\n",
      "Test time:0.20765042304992676[sec]\n",
      "Svm accuracy: 0.5721153846153846\n"
     ]
    }
   ],
   "source": [
    "def PolynomialKernel(c, p):\n",
    "    \n",
    "    def PolynomialK(x1, x2):\n",
    "        \"\"\"\n",
    "        Compute the kernel matrix.\n",
    "        @param x1: array of shape (m1,p)\n",
    "        @param x2: array of shape(m2,p)\n",
    "        @return: K of shape (m1,m2) where K[i,j] = (x1[i].x2[j] + c)^p\n",
    "        \"\"\"\n",
    "        # Workspace 2.3\n",
    "        K = np.zeros((x1.shape[0], x2.shape[0]))\n",
    "        #BEGIN \n",
    "        # code here\n",
    "        for i in range(0,len(x1)):\n",
    "            for j in range(0,len(x2)):\n",
    "                K[i][j] = (np.dot(x1[i],x2[j])+c)**p\n",
    "        #END\n",
    "        return K\n",
    "    return PolynomialK\n",
    "\n",
    "svm1 = svm.SVC(kernel=PolynomialKernel(c=1,p=2))\n",
    "start_time = time.time()\n",
    "svm1.fit(X_train, y_train) # train\n",
    "train_time = time.time() - start_time\n",
    "y1_pred = svm1.predict(X_test) #predict\n",
    "test_time = time.time() - start_time - train_time\n",
    "print (\"Direct kernel set classical SVM\")\n",
    "print (\"Training time:{0}\".format(train_time) + \"[sec]\")\n",
    "print (\"Test time:{0}\".format(test_time) + \"[sec]\")\n",
    "print(\"Svm accuracy: \"+str(svm1.score(X_test,y_test)))"
   ]
  },
  {
   "cell_type": "code",
   "execution_count": 10,
   "metadata": {},
   "outputs": [
    {
     "name": "stdout",
     "output_type": "stream",
     "text": [
      "Direct kernel set classical SVM\n"
     ]
    },
    {
     "data": {
      "image/png": "[encoded data removed]",
      "text/plain": [
       "<Figure size 432x288 with 1 Axes>"
      ]
     },
     "metadata": {
      "needs_background": "light"
     },
     "output_type": "display_data"
    },
    {
     "data": {
      "text/plain": [
       "array([[103.,  11.],\n",
       "       [ 78.,  16.]])"
      ]
     },
     "execution_count": 10,
     "metadata": {},
     "output_type": "execute_result"
    }
   ],
   "source": [
    "print (\"Direct kernel set classical SVM\")\n",
    "confusion_matrix(y1_pred, y_test, False, True)"
   ]
  },
  {
   "cell_type": "code",
   "execution_count": 11,
   "metadata": {},
   "outputs": [
    {
     "data": {
      "image/png": "[encoded data removed]",
      "text/plain": [
       "<Figure size 1008x432 with 2 Axes>"
      ]
     },
     "metadata": {
      "needs_background": "light"
     },
     "output_type": "display_data"
    }
   ],
   "source": [
    "y_train_score1 = svm1.decision_function(X_train)\n",
    "y_test_score1 = svm1.decision_function(X_test)\n",
    "\n",
    "ROC(y_train_score1, y_test_score1, y_train, y_test)"
   ]
  },
  {
   "cell_type": "code",
   "execution_count": null,
   "metadata": {},
   "outputs": [],
   "source": []
  },
  {
   "cell_type": "code",
   "execution_count": null,
   "metadata": {},
   "outputs": [],
   "source": []
  },
  {
   "cell_type": "code",
   "execution_count": null,
   "metadata": {},
   "outputs": [],
   "source": []
  },
  {
   "cell_type": "code",
   "execution_count": null,
   "metadata": {},
   "outputs": [],
   "source": []
  }
 ],
 "metadata": {
  "kernelspec": {
   "display_name": "Python 3",
   "language": "python",
   "name": "python3"
  },
  "language_info": {
   "codemirror_mode": {
    "name": "ipython",
    "version": 3
   },
   "file_extension": ".py",
   "mimetype": "text/x-python",
   "name": "python",
   "nbconvert_exporter": "python",
   "pygments_lexer": "ipython3",
   "version": "3.8.3"
  }
 },
 "nbformat": 4,
 "nbformat_minor": 5
}
