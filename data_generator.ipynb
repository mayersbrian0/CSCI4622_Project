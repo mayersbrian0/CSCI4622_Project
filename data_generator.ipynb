{
 "cells": [
  {
   "cell_type": "code",
   "execution_count": 3,
   "id": "fc998e1c",
   "metadata": {},
   "outputs": [],
   "source": [
    "import numpy as np\n",
    "import pandas as pd\n",
    "import yfinance as yf\n",
    "import datetime\n",
    "import os"
   ]
  },
  {
   "cell_type": "code",
   "execution_count": 2,
   "id": "b5518bec",
   "metadata": {},
   "outputs": [],
   "source": [
    "#This is the general approch to getting data for our model\n",
    "#(1) randomly generate a year between 1996-2020\n",
    "#(2) From this year, select at random a S&P 500 from that year \n",
    "#(3) With this stock, measure the expected return from the year to year+1 and also \n",
    "#    measure actual return of year+1 to year+2 (this is our binary classification data)\n",
    "#   get the relevant earings/revenue data from that year \n",
    "#(4) From this year, meaure the percent change in CPI and Money Supply\n",
    "#(5) Repeat this for n number of samples\n",
    "#(6) Create the data matrix "
   ]
  },
  {
   "cell_type": "code",
   "execution_count": 4,
   "id": "965bccf8",
   "metadata": {},
   "outputs": [],
   "source": [
    "years_considered = [i for i in range(1998, 2021)]"
   ]
  },
  {
   "cell_type": "code",
   "execution_count": 5,
   "id": "69488653",
   "metadata": {},
   "outputs": [
    {
     "name": "stdout",
     "output_type": "stream",
     "text": [
      "2019521\n",
      "Ticker: PNR\n",
      "0.16392059764365707\n",
      "0.8920978147067101\n",
      "1\n"
     ]
    }
   ],
   "source": [
    "#cell that gets one sample\n",
    "year = np.random.choice(years_considered)\n",
    "day = np.random.choice([i for i in range(1,27)])\n",
    "month = np.random.choice([i for i in range(1, 12)])\n",
    "date = str(year) + str(month) + str(day)\n",
    "datestring = str(year) + '-' + str(month) + '-' + str(day)\n",
    "print(date)\n",
    "\n",
    "def get_table(filename):\n",
    "    if os.path.isfile(filename):\n",
    "        df = pd.read_csv(filename, index_col='date')\n",
    "        return df\n",
    "\n",
    "#takes in date string an returns a stock ticker\n",
    "def get_company(date):\n",
    "    #load in the historical list of companies\n",
    "    filename = './Data/S&P 500 Historical Components & Changes(03-14-2022).csv'\n",
    "    df = get_table(filename)\n",
    "    # Convert ticker column from csv to list, then sort.\n",
    "    df['tickers'] = df['tickers'].apply(lambda x: sorted(x.split(',')))\n",
    "    df2 = df[df.index <= date]\n",
    "    last_row = df2.tail(1)\n",
    "    member_list = last_row['tickers'][0]\n",
    "    return np.random.choice(member_list)\n",
    "\n",
    "ticker = get_company(datestring)\n",
    "print(\"Ticker: {}\".format(ticker))\n",
    "\n",
    "def get_return(symbol, start, end):\n",
    "    # create empty dataframe and list to store data frames\n",
    "    df = pd.DataFrame()\n",
    "    data = []\n",
    "    # print the symbol which is being downloaded\n",
    "    try:\n",
    "        stock = []\n",
    "        stock = yf.download(symbol, start=start, end=end, progress=False)\n",
    "        if len(stock) == 0:\n",
    "            return None\n",
    "        df = stock\n",
    "        df.drop(columns=['Open', 'Low', 'High', 'Close', 'Volume'], inplace=True)\n",
    "        new_df = df['Adj Close'].pct_change()\n",
    "        m = new_df.mean()\n",
    "        # convert to annual expected returns\n",
    "        # annual = (dialy_return + 1)^365 - 1\n",
    "        annual = ((m + 1) ** 365) - 1\n",
    "    except:\n",
    "        return None\n",
    "    return annual\n",
    "\n",
    "#binary classifier\n",
    "def get_class(symbol, start, end, threshold=.07):\n",
    "    df = pd.DataFrame()\n",
    "    stock = []\n",
    "    stock = yf.download(symbol, start=start, end=end, progress=False)\n",
    "    if len(stock) == 0:\n",
    "        return None\n",
    "    df = stock\n",
    "    df.drop(columns=['Open', 'Low', 'High', 'Close', 'Volume'], inplace=True)\n",
    "    ret = (df['Adj Close'][-1] - df['Adj Close'][0]) / df['Adj Close'][0]\n",
    "    print(ret)\n",
    "    if ret > threshold: return 1\n",
    "    else: return 0\n",
    "    \n",
    "\n",
    "exp_ret = get_return(ticker, datetime.datetime(year,month,day), datetime.datetime(year+1,month,day))\n",
    "#don't append if None\n",
    "if exp_ret != None:\n",
    "    print(exp_ret)\n",
    "    clas = get_class(ticker, datetime.datetime(year+1,month,day), datetime.datetime(year+2,month,day))\n",
    "    print(clas)"
   ]
  },
  {
   "cell_type": "code",
   "execution_count": 8,
   "id": "5d8c0e60",
   "metadata": {},
   "outputs": [
    {
     "ename": "NameError",
     "evalue": "name 'YahooFinancials' is not defined",
     "output_type": "error",
     "traceback": [
      "\u001b[0;31m---------------------------------------------------------------------------\u001b[0m",
      "\u001b[0;31mNameError\u001b[0m                                 Traceback (most recent call last)",
      "Input \u001b[0;32mIn [8]\u001b[0m, in \u001b[0;36m<module>\u001b[0;34m\u001b[0m\n\u001b[1;32m      5\u001b[0m     \u001b[38;5;28mprint\u001b[39m(ear)\n\u001b[1;32m      6\u001b[0m     \u001b[38;5;66;03m#print(stock.earnings)\u001b[39;00m\n\u001b[0;32m----> 8\u001b[0m rev \u001b[38;5;241m=\u001b[39m \u001b[43mget_revenue\u001b[49m\u001b[43m(\u001b[49m\u001b[43mticker\u001b[49m\u001b[43m,\u001b[49m\u001b[43m \u001b[49m\u001b[43mdatetime\u001b[49m\u001b[38;5;241;43m.\u001b[39;49m\u001b[43mdatetime\u001b[49m\u001b[43m(\u001b[49m\u001b[43myear\u001b[49m\u001b[43m,\u001b[49m\u001b[43mmonth\u001b[49m\u001b[43m,\u001b[49m\u001b[43mday\u001b[49m\u001b[43m)\u001b[49m\u001b[43m,\u001b[49m\u001b[43m \u001b[49m\u001b[43mdatetime\u001b[49m\u001b[38;5;241;43m.\u001b[39;49m\u001b[43mdatetime\u001b[49m\u001b[43m(\u001b[49m\u001b[43myear\u001b[49m\u001b[43m \u001b[49m\u001b[38;5;241;43m+\u001b[39;49m\u001b[38;5;241;43m1\u001b[39;49m\u001b[43m,\u001b[49m\u001b[43mmonth\u001b[49m\u001b[43m,\u001b[49m\u001b[43mday\u001b[49m\u001b[43m)\u001b[49m\u001b[43m)\u001b[49m\n",
      "Input \u001b[0;32mIn [8]\u001b[0m, in \u001b[0;36mget_revenue\u001b[0;34m(symbol, start, end)\u001b[0m\n\u001b[1;32m      2\u001b[0m \u001b[38;5;28;01mdef\u001b[39;00m \u001b[38;5;21mget_revenue\u001b[39m(symbol, start, end):\n\u001b[0;32m----> 3\u001b[0m     stock \u001b[38;5;241m=\u001b[39m \u001b[43mYahooFinancials\u001b[49m(ticker)\n\u001b[1;32m      4\u001b[0m     ear \u001b[38;5;241m=\u001b[39m stock\u001b[38;5;241m.\u001b[39mget_stock_earnings_data()\n\u001b[1;32m      5\u001b[0m     \u001b[38;5;28mprint\u001b[39m(ear)\n",
      "\u001b[0;31mNameError\u001b[0m: name 'YahooFinancials' is not defined"
     ]
    }
   ],
   "source": [
    "#get the yearly change in earnings\n",
    "def get_revenue(symbol, start, end):\n",
    "    stock = YahooFinancials(ticker)\n",
    "    ear = stock.get_stock_earnings_data()\n",
    "    print(ear)\n",
    "    #print(stock.earnings)\n",
    "    #https://pypi.org/project/yahoofinancials/\n",
    "rev = get_revenue(ticker, datetime.datetime(year,month,day), datetime.datetime(year +1,month,day))"
   ]
  },
  {
   "cell_type": "code",
   "execution_count": 148,
   "id": "8f302039",
   "metadata": {},
   "outputs": [
    {
     "name": "stdout",
     "output_type": "stream",
     "text": [
      "0.04175543041803515\n",
      "0.06232893754665347\n"
     ]
    }
   ],
   "source": [
    "def get_cpi(start, end, filename ='./Data/US CPI.csv'):\n",
    "    df = pd.read_csv(filename)\n",
    "    df['Yearmon'] = df['Yearmon'].astype(str)\n",
    "    s = df[(df.Yearmon == start)]['CPI'].to_numpy()[0]\n",
    "    e = df[(df.Yearmon == end)]['CPI'].to_numpy()[0]\n",
    "    return (e-s) / s\n",
    "\n",
    "str_day = '01'\n",
    "str_month = str(month)\n",
    "if month < 10: str_month = '0' + str(month)\n",
    "cpi = get_cpi(str_day + '-' + str_month + '-' + str(year),str_day + '-' + str_month + '-' + str(year+1))\n",
    "print(cpi)\n",
    "\n",
    "#format year - month - date w/zeros\n",
    "def get_M2(start, end, filename='./Data/M2.csv'):\n",
    "    df = pd.read_csv(filename)\n",
    "    s = df[df.DATE.str.contains(start)].to_numpy()[0][1]\n",
    "    e = df[df.DATE.str.contains(end)].to_numpy()[0][1]\n",
    "    return (e- s) /s\n",
    "\n",
    "m2 = get_M2(str(year) + '-' + str_month,  str(year +1) + '-' + str_month)\n",
    "print(m2)"
   ]
  },
  {
   "cell_type": "code",
   "execution_count": null,
   "id": "63de0ab7",
   "metadata": {},
   "outputs": [],
   "source": [
    "\n",
    "\n",
    "#function to generate samples\n",
    "def generate_samples(years=years_considered, num_samples=500):\n",
    "    \n",
    "    \n",
    "    "
   ]
  },
  {
   "cell_type": "code",
   "execution_count": null,
   "id": "d1d8f30d",
   "metadata": {},
   "outputs": [],
   "source": []
  }
 ],
 "metadata": {
  "kernelspec": {
   "display_name": "Python 3 (ipykernel)",
   "language": "python",
   "name": "python3"
  },
  "language_info": {
   "codemirror_mode": {
    "name": "ipython",
    "version": 3
   },
   "file_extension": ".py",
   "mimetype": "text/x-python",
   "name": "python",
   "nbconvert_exporter": "python",
   "pygments_lexer": "ipython3",
   "version": "3.8.10"
  }
 },
 "nbformat": 4,
 "nbformat_minor": 5
}
