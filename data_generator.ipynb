{
 "cells": [
  {
   "cell_type": "code",
   "execution_count": 29,
   "id": "fc998e1c",
   "metadata": {},
   "outputs": [],
   "source": [
    "import numpy as np\n",
    "import pandas as pd\n",
    "import os"
   ]
  },
  {
   "cell_type": "code",
   "execution_count": 2,
   "id": "b5518bec",
   "metadata": {},
   "outputs": [],
   "source": [
    "#This is the general approch to getting data for our model\n",
    "#(1) randomly generate a year between 1996-2020\n",
    "#(2) From this year, select at random a S&P 500 from that year \n",
    "#(3) With this stock, measure the return from the year to year+1 and also \n",
    "#    measure return of year+1 to year+2 (this is our binary classification data)\n",
    "#   get the relevant earings/revenue data from that year \n",
    "#(4) From this year, meaure the percent change in CPI and Money Supply\n",
    "#(5) Repeat this for n number of samples\n",
    "#(6) Create the data matrix "
   ]
  },
  {
   "cell_type": "code",
   "execution_count": 30,
   "id": "965bccf8",
   "metadata": {},
   "outputs": [],
   "source": [
    "years_considered = [i for i in range(1996, 2021)]"
   ]
  },
  {
   "cell_type": "code",
   "execution_count": 128,
   "id": "69488653",
   "metadata": {},
   "outputs": [
    {
     "name": "stdout",
     "output_type": "stream",
     "text": [
      "2000-01-01\n",
      "Ticker: PCAR\n"
     ]
    }
   ],
   "source": [
    "#cell that gets one sample\n",
    "year = np.random.choice(years_considered)\n",
    "date = str(year) + '-01-01'\n",
    "print(date)\n",
    "\n",
    "def get_table(filename):\n",
    "    if os.path.isfile(filename):\n",
    "        df = pd.read_csv(filename, index_col='date')\n",
    "        return df\n",
    "\n",
    "#takes in date string an returns a stock ticker\n",
    "def get_company(date):\n",
    "    #load in the historical list of companies\n",
    "    filename = './Data/S&P 500 Historical Components & Changes(03-14-2022).csv'\n",
    "    df = get_table(filename)\n",
    "    # Convert ticker column from csv to list, then sort.\n",
    "    df['tickers'] = df['tickers'].apply(lambda x: sorted(x.split(',')))\n",
    "    df2 = df[df.index <= date]\n",
    "    last_row = df2.tail(1)\n",
    "    member_list = last_row['tickers'][0]\n",
    "    return np.random.choice(member_list)\n",
    "\n",
    "ticker = get_company(date)\n",
    "print(\"Ticker: {}\".format(ticker))\n",
    "\n",
    "def get_prices(symbol, start, end):\n",
    "    # create empty dataframe and list to store data frames\n",
    "    df = pd.DataFrame()\n",
    "    data = []\n",
    "    # print the symbol which is being downloaded\n",
    "    stock = []\n",
    "    stock = yf.download(i, start=start, end=end, progress=False)\n",
    "    df = stock\n",
    "    df.drop(columns=['Open', 'Low', 'High', 'Close'], inplace=True)\n",
    "    \n",
    "get_prices(ticker, )"
   ]
  },
  {
   "cell_type": "code",
   "execution_count": null,
   "id": "63de0ab7",
   "metadata": {},
   "outputs": [],
   "source": [
    "\n",
    "\n",
    "#function to generate samples\n",
    "def generate_samples(years=years_considered, num_samples=500):\n",
    "    \n",
    "    \n",
    "    "
   ]
  },
  {
   "cell_type": "code",
   "execution_count": null,
   "id": "d1d8f30d",
   "metadata": {},
   "outputs": [],
   "source": []
  }
 ],
 "metadata": {
  "kernelspec": {
   "display_name": "Python 3 (ipykernel)",
   "language": "python",
   "name": "python3"
  },
  "language_info": {
   "codemirror_mode": {
    "name": "ipython",
    "version": 3
   },
   "file_extension": ".py",
   "mimetype": "text/x-python",
   "name": "python",
   "nbconvert_exporter": "python",
   "pygments_lexer": "ipython3",
   "version": "3.9.7"
  }
 },
 "nbformat": 4,
 "nbformat_minor": 5
}
