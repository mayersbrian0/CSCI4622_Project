{
 "cells": [
  {
   "cell_type": "code",
   "execution_count": 90,
   "id": "9d05c304",
   "metadata": {},
   "outputs": [],
   "source": [
    "import numpy as np\n",
    "from sklearn.model_selection import train_test_split\n",
    "from sklearn.ensemble import RandomForestClassifier\n",
    "from sklearn.ensemble import AdaBoostClassifier\n",
    "from sklearn.tree import DecisionTreeClassifier\n",
    "from sklearn.naive_bayes import GaussianNB\n",
    "from sklearn.svm import SVC\n",
    "from sklearn import metrics\n",
    "from keras.models import Sequential\n",
    "from keras.layers import Dense\n",
    "import keras_tuner as kt\n",
    "from tensorflow.keras import optimizers"
   ]
  },
  {
   "cell_type": "code",
   "execution_count": 16,
   "id": "f5952474",
   "metadata": {},
   "outputs": [
    {
     "name": "stdout",
     "output_type": "stream",
     "text": [
      "[[ 1.92766025  0.12958038  0.0280275   0.03613106  0.2809    ]\n",
      " [ 0.31014981  0.08610681  0.03454437  0.06106653  0.3229    ]\n",
      " [ 0.18029989  0.19139025  0.02871548  0.04061004  0.393     ]\n",
      " ...\n",
      " [ 1.07716387  0.17174854  0.01938974  0.05568655  0.4301    ]\n",
      " [-0.08929531  0.14845486 -0.01286206  0.08363529  0.5746    ]\n",
      " [ 1.05222792  0.16738197  0.02628362  0.07058851  0.3659    ]]\n",
      "753\n",
      "1403\n",
      "0.5367070563079116\n"
     ]
    }
   ],
   "source": [
    "X = np.loadtxt('feature_data.csv', delimiter=',')\n",
    "y = np.loadtxt('class_data.csv', delimiter=',')\n",
    "\n",
    "print(X)\n",
    "print(np.count_nonzero(y))\n",
    "print(np.size(y))\n",
    "print(753/1403)"
   ]
  },
  {
   "cell_type": "code",
   "execution_count": 61,
   "id": "f0d6c532",
   "metadata": {},
   "outputs": [],
   "source": [
    "X_train, X_test, y_train, y_test = train_test_split(\n",
    "...     X, y, test_size=0.30,)#random_state=46)\n",
    "\n",
    "def accuracy(y_pred, y_true):\n",
    "    total = 0\n",
    "    for i in range(len(y_pred)):\n",
    "        if y_pred[i] == y_test[i]: total +=1 \n",
    "    return total / len(y_pred)\n",
    "#print(\"Accuracy: {}\".format(total / len(y_pred)))"
   ]
  },
  {
   "cell_type": "code",
   "execution_count": 85,
   "id": "8d37e977",
   "metadata": {},
   "outputs": [
    {
     "name": "stdout",
     "output_type": "stream",
     "text": [
      "(50) Accuracy: 0.6342042755344418\n",
      "(100) Accuracy: 0.6365795724465558\n",
      "(150) Accuracy: 0.6437054631828979\n",
      "(200) Accuracy: 0.6365795724465558\n",
      "(250) Accuracy: 0.6389548693586699\n",
      "(300) Accuracy: 0.6603325415676959\n",
      "(350) Accuracy: 0.6389548693586699\n",
      "(400) Accuracy: 0.6460807600950119\n",
      "(450) Accuracy: 0.6413301662707839\n",
      "(500) Accuracy: 0.6555819477434679\n",
      "(550) Accuracy: 0.6389548693586699\n",
      "(600) Accuracy: 0.6294536817102138\n",
      "(650) Accuracy: 0.6508313539192399\n",
      "(700) Accuracy: 0.6437054631828979\n",
      "(750) Accuracy: 0.6532066508313539\n",
      "(800) Accuracy: 0.6389548693586699\n",
      "(850) Accuracy: 0.6413301662707839\n",
      "(900) Accuracy: 0.66270783847981\n",
      "(950) Accuracy: 0.6555819477434679\n",
      "(1000) Accuracy: 0.6603325415676959\n",
      "(1050) Accuracy: 0.6484560570071259\n",
      "(1100) Accuracy: 0.6508313539192399\n",
      "(1150) Accuracy: 0.6508313539192399\n",
      "(1200) Accuracy: 0.6532066508313539\n",
      "(1250) Accuracy: 0.6508313539192399\n",
      "(1300) Accuracy: 0.6460807600950119\n",
      "(1350) Accuracy: 0.6508313539192399\n",
      "(1400) Accuracy: 0.6460807600950119\n",
      "(1450) Accuracy: 0.6508313539192399\n"
     ]
    }
   ],
   "source": [
    "for i in range(50,1500, 50):\n",
    "    tree_model = RandomForestClassifier()\n",
    "    y_pred = tree_model.fit(X_train, y_train).predict(X_test)\n",
    "    print(\"({}) Accuracy: {}\".format(i, accuracy(y_pred, y_test)))"
   ]
  },
  {
   "cell_type": "code",
   "execution_count": 87,
   "id": "5a5fad1b",
   "metadata": {},
   "outputs": [
    {
     "data": {
      "text/plain": [
       "(array([0.       , 0.3968254, 1.       ]),\n",
       " array([0.        , 0.66810345, 1.        ]),\n",
       " array([2., 1., 0.]))"
      ]
     },
     "execution_count": 87,
     "metadata": {},
     "output_type": "execute_result"
    }
   ],
   "source": [
    "tree_model = RandomForestClassifier(n_estimators=1000)\n",
    "y_pred = tree_model.fit(X_train, y_train).predict(X_test)\n",
    "metrics.roc_curve(y_test, y_pred)\n",
    "#print(\"Accuracy: {}\".format(accuracy(y_pred, y_test)))"
   ]
  },
  {
   "cell_type": "code",
   "execution_count": 83,
   "id": "cdaef8cb",
   "metadata": {},
   "outputs": [
    {
     "name": "stdout",
     "output_type": "stream",
     "text": [
      "(50) Accuracy: 0.6342042755344418\n",
      "(100) Accuracy: 0.6365795724465558\n",
      "(150) Accuracy: 0.6603325415676959\n",
      "(200) Accuracy: 0.6603325415676959\n",
      "(250) Accuracy: 0.669833729216152\n",
      "(300) Accuracy: 0.66270783847981\n",
      "(350) Accuracy: 0.66270783847981\n",
      "(400) Accuracy: 0.66270783847981\n",
      "(450) Accuracy: 0.6508313539192399\n",
      "(500) Accuracy: 0.672209026128266\n",
      "(550) Accuracy: 0.669833729216152\n",
      "(600) Accuracy: 0.66270783847981\n",
      "(650) Accuracy: 0.6555819477434679\n",
      "(700) Accuracy: 0.6508313539192399\n",
      "(750) Accuracy: 0.6579572446555819\n",
      "(800) Accuracy: 0.6579572446555819\n",
      "(850) Accuracy: 0.6603325415676959\n",
      "(900) Accuracy: 0.667458432304038\n",
      "(950) Accuracy: 0.672209026128266\n",
      "(1000) Accuracy: 0.665083135391924\n",
      "(1050) Accuracy: 0.669833729216152\n",
      "(1100) Accuracy: 0.667458432304038\n",
      "(1150) Accuracy: 0.66270783847981\n",
      "(1200) Accuracy: 0.665083135391924\n",
      "(1250) Accuracy: 0.665083135391924\n",
      "(1300) Accuracy: 0.669833729216152\n",
      "(1350) Accuracy: 0.6603325415676959\n",
      "(1400) Accuracy: 0.6579572446555819\n",
      "(1450) Accuracy: 0.6579572446555819\n"
     ]
    }
   ],
   "source": [
    "#performs best when random state is 46\n",
    "\n",
    "#simple test example\n",
    "for i in range(50,1500, 50):\n",
    "    rf = AdaBoostClassifier(n_estimators=i)\n",
    "    rf.fit(X_train, y_train)\n",
    "    y_pred = rf.predict(X_test)\n",
    "    print(\"({}) Accuracy: {}\".format(i, accuracy(y_pred, y_test)))"
   ]
  },
  {
   "cell_type": "code",
   "execution_count": 88,
   "id": "e44ee739",
   "metadata": {},
   "outputs": [
    {
     "name": "stdout",
     "output_type": "stream",
     "text": [
      "Accuracy: 0.4489311163895487\n"
     ]
    }
   ],
   "source": [
    "gnb = GaussianNB()\n",
    "y_pred = gnb.fit(X_train, y_train).predict(X_test)\n",
    "print(\"Accuracy: {}\".format(accuracy(y_pred, y_test)))"
   ]
  },
  {
   "cell_type": "code",
   "execution_count": 127,
   "id": "93a14d63",
   "metadata": {},
   "outputs": [],
   "source": [
    "model = Sequential()\n",
    "kh = kt.HyperParameters()\n",
    "model.add(Dense(units=kh.Int(\"units\", min_value=5, max_value=200), activation='relu', input_dim=5))\n",
    "model.add(Dense(units=kh.Int(\"units\", min_value=5, max_value=200, step=32), activation=kh.Choice(\"activation\", [\"relu\", \"tanh\"])))\n",
    "model.add(Dense(units=kh.Int(\"units\", min_value=5, max_value=200, step=32), activation=kh.Choice(\"activation\", [\"relu\", \"tanh\"])))\n",
    "model.add(Dense(1, activation='sigmoid'))\n",
    "model.compile(optimizer=optimizers.RMSprop(), loss='binary_crossentropy', metrics=['accuracy'])"
   ]
  },
  {
   "cell_type": "code",
   "execution_count": 128,
   "id": "bc826a51",
   "metadata": {},
   "outputs": [
    {
     "name": "stdout",
     "output_type": "stream",
     "text": [
      "Epoch 1/70\n",
      "35/35 [==============================] - 0s 3ms/step - loss: 0.7009 - accuracy: 0.5226 - val_loss: 0.6927 - val_accuracy: 0.5729\n",
      "Epoch 2/70\n",
      "35/35 [==============================] - 0s 925us/step - loss: 0.6963 - accuracy: 0.5546 - val_loss: 0.6915 - val_accuracy: 0.5492\n",
      "Epoch 3/70\n",
      "35/35 [==============================] - 0s 973us/step - loss: 0.6934 - accuracy: 0.5604 - val_loss: 0.6909 - val_accuracy: 0.5356\n",
      "Epoch 4/70\n",
      "35/35 [==============================] - 0s 1ms/step - loss: 0.6911 - accuracy: 0.5488 - val_loss: 0.6907 - val_accuracy: 0.5424\n",
      "Epoch 5/70\n",
      "35/35 [==============================] - 0s 913us/step - loss: 0.6896 - accuracy: 0.5560 - val_loss: 0.6908 - val_accuracy: 0.5051\n",
      "Epoch 6/70\n",
      "35/35 [==============================] - 0s 983us/step - loss: 0.6884 - accuracy: 0.5531 - val_loss: 0.6913 - val_accuracy: 0.4949\n",
      "Epoch 7/70\n",
      "35/35 [==============================] - 0s 936us/step - loss: 0.6875 - accuracy: 0.5400 - val_loss: 0.6918 - val_accuracy: 0.5017\n",
      "Epoch 8/70\n",
      "35/35 [==============================] - 0s 939us/step - loss: 0.6869 - accuracy: 0.5429 - val_loss: 0.6923 - val_accuracy: 0.5051\n",
      "Epoch 9/70\n",
      "35/35 [==============================] - 0s 894us/step - loss: 0.6863 - accuracy: 0.5502 - val_loss: 0.6914 - val_accuracy: 0.5017\n",
      "Epoch 10/70\n",
      "35/35 [==============================] - 0s 851us/step - loss: 0.6860 - accuracy: 0.5444 - val_loss: 0.6916 - val_accuracy: 0.5085\n",
      "Epoch 11/70\n",
      "35/35 [==============================] - 0s 1ms/step - loss: 0.6857 - accuracy: 0.5473 - val_loss: 0.6912 - val_accuracy: 0.5119\n",
      "Epoch 12/70\n",
      "35/35 [==============================] - 0s 1ms/step - loss: 0.6853 - accuracy: 0.5517 - val_loss: 0.6921 - val_accuracy: 0.5017\n",
      "Epoch 13/70\n",
      "35/35 [==============================] - 0s 938us/step - loss: 0.6847 - accuracy: 0.5560 - val_loss: 0.6904 - val_accuracy: 0.5356\n",
      "Epoch 14/70\n",
      "35/35 [==============================] - 0s 882us/step - loss: 0.6845 - accuracy: 0.5590 - val_loss: 0.6909 - val_accuracy: 0.5153\n",
      "Epoch 15/70\n",
      "35/35 [==============================] - 0s 904us/step - loss: 0.6841 - accuracy: 0.5560 - val_loss: 0.6904 - val_accuracy: 0.5322\n",
      "Epoch 16/70\n",
      "35/35 [==============================] - 0s 918us/step - loss: 0.6839 - accuracy: 0.5488 - val_loss: 0.6897 - val_accuracy: 0.5492\n",
      "Epoch 17/70\n",
      "35/35 [==============================] - 0s 880us/step - loss: 0.6834 - accuracy: 0.5560 - val_loss: 0.6901 - val_accuracy: 0.5424\n",
      "Epoch 18/70\n",
      "35/35 [==============================] - 0s 993us/step - loss: 0.6830 - accuracy: 0.5575 - val_loss: 0.6895 - val_accuracy: 0.5525\n",
      "Epoch 19/70\n",
      "35/35 [==============================] - 0s 888us/step - loss: 0.6825 - accuracy: 0.5590 - val_loss: 0.6883 - val_accuracy: 0.5525\n",
      "Epoch 20/70\n",
      "35/35 [==============================] - 0s 901us/step - loss: 0.6819 - accuracy: 0.5677 - val_loss: 0.6885 - val_accuracy: 0.5525\n",
      "Epoch 21/70\n",
      "35/35 [==============================] - 0s 885us/step - loss: 0.6813 - accuracy: 0.5691 - val_loss: 0.6881 - val_accuracy: 0.5492\n",
      "Epoch 22/70\n",
      "35/35 [==============================] - 0s 959us/step - loss: 0.6808 - accuracy: 0.5677 - val_loss: 0.6872 - val_accuracy: 0.5492\n",
      "Epoch 23/70\n",
      "35/35 [==============================] - 0s 984us/step - loss: 0.6804 - accuracy: 0.5546 - val_loss: 0.6872 - val_accuracy: 0.5492\n",
      "Epoch 24/70\n",
      "35/35 [==============================] - 0s 1ms/step - loss: 0.6801 - accuracy: 0.5633 - val_loss: 0.6872 - val_accuracy: 0.5492\n",
      "Epoch 25/70\n",
      "35/35 [==============================] - 0s 960us/step - loss: 0.6795 - accuracy: 0.5575 - val_loss: 0.6867 - val_accuracy: 0.5559\n",
      "Epoch 26/70\n",
      "35/35 [==============================] - 0s 970us/step - loss: 0.6787 - accuracy: 0.5633 - val_loss: 0.6853 - val_accuracy: 0.5593\n",
      "Epoch 27/70\n",
      "35/35 [==============================] - 0s 856us/step - loss: 0.6784 - accuracy: 0.5633 - val_loss: 0.6860 - val_accuracy: 0.5593\n",
      "Epoch 28/70\n",
      "35/35 [==============================] - 0s 943us/step - loss: 0.6777 - accuracy: 0.5633 - val_loss: 0.6840 - val_accuracy: 0.5593\n",
      "Epoch 29/70\n",
      "35/35 [==============================] - 0s 938us/step - loss: 0.6775 - accuracy: 0.5750 - val_loss: 0.6845 - val_accuracy: 0.5627\n",
      "Epoch 30/70\n",
      "35/35 [==============================] - 0s 1ms/step - loss: 0.6769 - accuracy: 0.5677 - val_loss: 0.6849 - val_accuracy: 0.5593\n",
      "Epoch 31/70\n",
      "35/35 [==============================] - 0s 975us/step - loss: 0.6763 - accuracy: 0.5691 - val_loss: 0.6838 - val_accuracy: 0.5627\n",
      "Epoch 32/70\n",
      "35/35 [==============================] - 0s 1ms/step - loss: 0.6761 - accuracy: 0.5721 - val_loss: 0.6835 - val_accuracy: 0.5627\n",
      "Epoch 33/70\n",
      "35/35 [==============================] - 0s 945us/step - loss: 0.6753 - accuracy: 0.5735 - val_loss: 0.6828 - val_accuracy: 0.5627\n",
      "Epoch 34/70\n",
      "35/35 [==============================] - 0s 978us/step - loss: 0.6750 - accuracy: 0.5764 - val_loss: 0.6829 - val_accuracy: 0.5593\n",
      "Epoch 35/70\n",
      "35/35 [==============================] - 0s 935us/step - loss: 0.6744 - accuracy: 0.5779 - val_loss: 0.6817 - val_accuracy: 0.5763\n",
      "Epoch 36/70\n",
      "35/35 [==============================] - 0s 940us/step - loss: 0.6741 - accuracy: 0.5852 - val_loss: 0.6831 - val_accuracy: 0.5695\n",
      "Epoch 37/70\n",
      "35/35 [==============================] - 0s 949us/step - loss: 0.6739 - accuracy: 0.5793 - val_loss: 0.6818 - val_accuracy: 0.5831\n",
      "Epoch 38/70\n",
      "35/35 [==============================] - 0s 1ms/step - loss: 0.6733 - accuracy: 0.5924 - val_loss: 0.6828 - val_accuracy: 0.5797\n",
      "Epoch 39/70\n",
      "35/35 [==============================] - 0s 973us/step - loss: 0.6731 - accuracy: 0.5953 - val_loss: 0.6829 - val_accuracy: 0.5831\n",
      "Epoch 40/70\n",
      "35/35 [==============================] - 0s 909us/step - loss: 0.6727 - accuracy: 0.5924 - val_loss: 0.6809 - val_accuracy: 0.5898\n",
      "Epoch 41/70\n",
      "35/35 [==============================] - 0s 929us/step - loss: 0.6722 - accuracy: 0.6012 - val_loss: 0.6810 - val_accuracy: 0.5864\n",
      "Epoch 42/70\n",
      "35/35 [==============================] - 0s 1ms/step - loss: 0.6718 - accuracy: 0.6026 - val_loss: 0.6820 - val_accuracy: 0.5932\n",
      "Epoch 43/70\n",
      "35/35 [==============================] - 0s 892us/step - loss: 0.6716 - accuracy: 0.6026 - val_loss: 0.6816 - val_accuracy: 0.5932\n",
      "Epoch 44/70\n",
      "35/35 [==============================] - 0s 915us/step - loss: 0.6713 - accuracy: 0.6026 - val_loss: 0.6808 - val_accuracy: 0.5932\n",
      "Epoch 45/70\n",
      "35/35 [==============================] - 0s 972us/step - loss: 0.6712 - accuracy: 0.6026 - val_loss: 0.6814 - val_accuracy: 0.5898\n",
      "Epoch 46/70\n",
      "35/35 [==============================] - 0s 899us/step - loss: 0.6705 - accuracy: 0.5968 - val_loss: 0.6792 - val_accuracy: 0.5898\n",
      "Epoch 47/70\n",
      "35/35 [==============================] - 0s 887us/step - loss: 0.6704 - accuracy: 0.6041 - val_loss: 0.6812 - val_accuracy: 0.5932\n",
      "Epoch 48/70\n",
      "35/35 [==============================] - 0s 971us/step - loss: 0.6703 - accuracy: 0.5997 - val_loss: 0.6803 - val_accuracy: 0.6000\n",
      "Epoch 49/70\n",
      "35/35 [==============================] - 0s 886us/step - loss: 0.6699 - accuracy: 0.6055 - val_loss: 0.6780 - val_accuracy: 0.5932\n",
      "Epoch 50/70\n",
      "35/35 [==============================] - 0s 882us/step - loss: 0.6694 - accuracy: 0.6070 - val_loss: 0.6804 - val_accuracy: 0.6034\n",
      "Epoch 51/70\n",
      "35/35 [==============================] - 0s 893us/step - loss: 0.6696 - accuracy: 0.5983 - val_loss: 0.6810 - val_accuracy: 0.6034\n",
      "Epoch 52/70\n",
      "35/35 [==============================] - 0s 847us/step - loss: 0.6688 - accuracy: 0.6084 - val_loss: 0.6785 - val_accuracy: 0.5864\n",
      "Epoch 53/70\n",
      "35/35 [==============================] - 0s 964us/step - loss: 0.6687 - accuracy: 0.6012 - val_loss: 0.6787 - val_accuracy: 0.5864\n",
      "Epoch 54/70\n",
      "35/35 [==============================] - 0s 1ms/step - loss: 0.6688 - accuracy: 0.6041 - val_loss: 0.6786 - val_accuracy: 0.5898\n",
      "Epoch 55/70\n",
      "35/35 [==============================] - 0s 1ms/step - loss: 0.6684 - accuracy: 0.5968 - val_loss: 0.6795 - val_accuracy: 0.6000\n",
      "Epoch 56/70\n",
      "35/35 [==============================] - 0s 1ms/step - loss: 0.6677 - accuracy: 0.6041 - val_loss: 0.6765 - val_accuracy: 0.5864\n",
      "Epoch 57/70\n",
      "35/35 [==============================] - 0s 947us/step - loss: 0.6681 - accuracy: 0.5910 - val_loss: 0.6776 - val_accuracy: 0.5898\n",
      "Epoch 58/70\n"
     ]
    },
    {
     "name": "stdout",
     "output_type": "stream",
     "text": [
      "35/35 [==============================] - 0s 888us/step - loss: 0.6678 - accuracy: 0.5997 - val_loss: 0.6776 - val_accuracy: 0.5864\n",
      "Epoch 59/70\n",
      "35/35 [==============================] - 0s 912us/step - loss: 0.6679 - accuracy: 0.5953 - val_loss: 0.6792 - val_accuracy: 0.5898\n",
      "Epoch 60/70\n",
      "35/35 [==============================] - 0s 949us/step - loss: 0.6675 - accuracy: 0.5983 - val_loss: 0.6787 - val_accuracy: 0.5932\n",
      "Epoch 61/70\n",
      "35/35 [==============================] - 0s 916us/step - loss: 0.6671 - accuracy: 0.5953 - val_loss: 0.6782 - val_accuracy: 0.5932\n",
      "Epoch 62/70\n",
      "35/35 [==============================] - 0s 1ms/step - loss: 0.6670 - accuracy: 0.6026 - val_loss: 0.6772 - val_accuracy: 0.5898\n",
      "Epoch 63/70\n",
      "35/35 [==============================] - 0s 954us/step - loss: 0.6670 - accuracy: 0.5983 - val_loss: 0.6785 - val_accuracy: 0.5966\n",
      "Epoch 64/70\n",
      "35/35 [==============================] - 0s 933us/step - loss: 0.6663 - accuracy: 0.5939 - val_loss: 0.6785 - val_accuracy: 0.6034\n",
      "Epoch 65/70\n",
      "35/35 [==============================] - 0s 889us/step - loss: 0.6665 - accuracy: 0.5968 - val_loss: 0.6782 - val_accuracy: 0.5966\n",
      "Epoch 66/70\n",
      "35/35 [==============================] - 0s 953us/step - loss: 0.6664 - accuracy: 0.5924 - val_loss: 0.6798 - val_accuracy: 0.6034\n",
      "Epoch 67/70\n",
      "35/35 [==============================] - 0s 978us/step - loss: 0.6659 - accuracy: 0.5953 - val_loss: 0.6790 - val_accuracy: 0.6034\n",
      "Epoch 68/70\n",
      "35/35 [==============================] - 0s 1ms/step - loss: 0.6660 - accuracy: 0.5924 - val_loss: 0.6798 - val_accuracy: 0.6034\n",
      "Epoch 69/70\n",
      "35/35 [==============================] - 0s 860us/step - loss: 0.6659 - accuracy: 0.5910 - val_loss: 0.6803 - val_accuracy: 0.6034\n",
      "Epoch 70/70\n",
      "35/35 [==============================] - 0s 948us/step - loss: 0.6658 - accuracy: 0.6012 - val_loss: 0.6768 - val_accuracy: 0.5864\n"
     ]
    }
   ],
   "source": [
    "nn_res = model.fit(X_train, y_train, epochs=70, batch_size=20,validation_split=.3)"
   ]
  },
  {
   "cell_type": "code",
   "execution_count": 129,
   "id": "cfda90e3",
   "metadata": {},
   "outputs": [
    {
     "name": "stdout",
     "output_type": "stream",
     "text": [
      "Accuracy: 0.6033254156769596\n"
     ]
    }
   ],
   "source": [
    "y_pred = model.predict(X_test)\n",
    "y_pred[ y_pred >= .5] = 1\n",
    "y_pred[y_pred < .5] = 0\n",
    "print(\"Accuracy: {}\".format(accuracy(y_pred, y_test)))"
   ]
  }
 ],
 "metadata": {
  "kernelspec": {
   "display_name": "Python 3 (ipykernel)",
   "language": "python",
   "name": "python3"
  },
  "language_info": {
   "codemirror_mode": {
    "name": "ipython",
    "version": 3
   },
   "file_extension": ".py",
   "mimetype": "text/x-python",
   "name": "python",
   "nbconvert_exporter": "python",
   "pygments_lexer": "ipython3",
   "version": "3.9.7"
  }
 },
 "nbformat": 4,
 "nbformat_minor": 5
}
